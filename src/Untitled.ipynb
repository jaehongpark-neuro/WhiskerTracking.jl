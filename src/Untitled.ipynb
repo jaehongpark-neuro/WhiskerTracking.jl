{
 "cells": [
  {
   "cell_type": "code",
   "execution_count": 5,
   "metadata": {},
   "outputs": [
    {
     "data": {
      "text/plain": [
       "\"/home/wanglab/Programs/ffmpeg/ffprobe\""
      ]
     },
     "execution_count": 5,
     "metadata": {},
     "output_type": "execute_result"
    }
   ],
   "source": [
    "include(\"config.jl\")"
   ]
  },
  {
   "cell_type": "code",
   "execution_count": 6,
   "metadata": {},
   "outputs": [],
   "source": [
    "include(\"types.jl\")"
   ]
  },
  {
   "cell_type": "code",
   "execution_count": 7,
   "metadata": {},
   "outputs": [
    {
     "ename": "ErrorException",
     "evalue": "could not open file /home/wanglab/Programs/WhiskerTracking.jl/src/gui,jl",
     "output_type": "error",
     "traceback": [
      "could not open file /home/wanglab/Programs/WhiskerTracking.jl/src/gui,jl",
      "",
      "Stacktrace:",
      " [1] include at ./boot.jl:317 [inlined]",
      " [2] include_relative(::Module, ::String) at ./loading.jl:1044",
      " [3] include(::Module, ::String) at ./sysimg.jl:29",
      " [4] include(::String) at ./client.jl:392",
      " [5] top-level scope at In[7]:1"
     ]
    }
   ],
   "source": [
    "include(\"gui,jl\")"
   ]
  },
  {
   "cell_type": "code",
   "execution_count": 4,
   "metadata": {},
   "outputs": [
    {
     "data": {
      "text/plain": [
       "argmax (generic function with 4 methods)"
      ]
     },
     "execution_count": 4,
     "metadata": {},
     "output_type": "execute_result"
    }
   ],
   "source": [
    "using Gtk.ShortNames, Cairo, Images, StatsBase, ImageFiltering, MAT, JLD, Interpolations, Distances, DSP, Polynomials,\n",
    "Pandas, HDF5, PyPlot, PyCall, LinearAlgebra, DelimitedFiles,ScikitLearn\n",
    "\n",
    "@sk_import ensemble: RandomForestClassifier\n",
    "\n",
    "if VERSION > v\"0.7-\"\n",
    "    using SharedArrays, Libdl, Dates\n",
    "    const Void = Nothing\n",
    "    const setproperty! = set_gtk_property!\n",
    "    const getproperty = get_gtk_property\n",
    "    const unshift! = pushfirst!\n",
    "    const is_windows() = Sys.iswindows()\n",
    "    const is_unix() = Sys.isunix()\n",
    "    const find = findall\n",
    "    const indmax = argmax\n",
    "end"
   ]
  },
  {
   "cell_type": "code",
   "execution_count": null,
   "metadata": {},
   "outputs": [],
   "source": []
  }
 ],
 "metadata": {
  "kernelspec": {
   "display_name": "Julia 1.0.4",
   "language": "julia",
   "name": "julia-1.0"
  },
  "language_info": {
   "file_extension": ".jl",
   "mimetype": "application/julia",
   "name": "julia",
   "version": "1.0.4"
  }
 },
 "nbformat": 4,
 "nbformat_minor": 2
}
